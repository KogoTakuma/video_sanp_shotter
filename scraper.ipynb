{
 "cells": [
  {
   "cell_type": "code",
   "execution_count": 2,
   "metadata": {},
   "outputs": [],
   "source": [
    "import time\n",
    "from selenium import webdriver\n",
    "from selenium.webdriver.common.keys import Keys\n",
    "from selenium.webdriver.common.by import By\n",
    "from selenium.webdriver.chrome.options import Options\n",
    "from selenium.webdriver.common.keys import Keys"
   ]
  },
  {
   "cell_type": "code",
   "execution_count": null,
   "metadata": {},
   "outputs": [],
   "source": []
  },
  {
   "cell_type": "code",
   "execution_count": 3,
   "metadata": {
    "tags": []
   },
   "outputs": [],
   "source": [
    "# ブラウザを起動する\n",
    "browser = webdriver.Chrome()\n",
    "\n",
    "time.sleep(3)\n"
   ]
  },
  {
   "cell_type": "code",
   "execution_count": 4,
   "metadata": {},
   "outputs": [
    {
     "name": "stdout",
     "output_type": "stream",
     "text": [
      "Screenshot saved as ./screenshot_2023-05-25-18-12.png\n",
      "Screenshot saved as ./screenshot_2023-05-25-18-22.png\n",
      "Screenshot saved as ./screenshot_2023-05-25-18-32.png\n",
      "Screenshot saved as ./screenshot_2023-05-25-18-42.png\n",
      "Screenshot saved as ./screenshot_2023-05-25-18-52.png\n",
      "Screenshot saved as ./screenshot_2023-05-25-19-02.png\n",
      "Screenshot saved as ./screenshot_2023-05-25-19-12.png\n",
      "Screenshot saved as ./screenshot_2023-05-25-19-22.png\n",
      "Screenshot saved as ./screenshot_2023-05-25-19-32.png\n",
      "Screenshot saved as ./screenshot_2023-05-25-19-42.png\n",
      "Screenshot saved as ./screenshot_2023-05-25-19-52.png\n",
      "Screenshot saved as ./screenshot_2023-05-25-20-02.png\n",
      "Screenshot saved as ./screenshot_2023-05-25-20-12.png\n",
      "Screenshot saved as ./screenshot_2023-05-25-20-22.png\n",
      "Screenshot saved as ./screenshot_2023-05-25-20-32.png\n",
      "Screenshot saved as ./screenshot_2023-05-25-20-42.png\n",
      "Screenshot saved as ./screenshot_2023-05-25-20-52.png\n",
      "Screenshot saved as ./screenshot_2023-05-25-21-02.png\n",
      "Screenshot saved as ./screenshot_2023-05-25-21-12.png\n",
      "Screenshot saved as ./screenshot_2023-05-25-21-22.png\n",
      "Screenshot saved as ./screenshot_2023-05-25-21-32.png\n",
      "Screenshot saved as ./screenshot_2023-05-25-21-42.png\n",
      "Screenshot saved as ./screenshot_2023-05-25-21-52.png\n",
      "Screenshot saved as ./screenshot_2023-05-25-22-02.png\n",
      "Screenshot saved as ./screenshot_2023-05-25-22-12.png\n"
     ]
    },
    {
     "ename": "KeyboardInterrupt",
     "evalue": "",
     "output_type": "error",
     "traceback": [
      "\u001b[0;31m---------------------------------------------------------------------------\u001b[0m",
      "\u001b[0;31mKeyboardInterrupt\u001b[0m                         Traceback (most recent call last)",
      "Cell \u001b[0;32mIn[4], line 40\u001b[0m\n\u001b[1;32m     38\u001b[0m     action\u001b[38;5;241m.\u001b[39msend_keys(Keys\u001b[38;5;241m.\u001b[39mRIGHT)\u001b[38;5;241m.\u001b[39mperform()\n\u001b[1;32m     39\u001b[0m     action\u001b[38;5;241m.\u001b[39msend_keys(Keys\u001b[38;5;241m.\u001b[39mRIGHT)\u001b[38;5;241m.\u001b[39mperform()\n\u001b[0;32m---> 40\u001b[0m     \u001b[43mtime\u001b[49m\u001b[38;5;241;43m.\u001b[39;49m\u001b[43msleep\u001b[49m\u001b[43m(\u001b[49m\u001b[38;5;241;43m2\u001b[39;49m\u001b[43m)\u001b[49m\n\u001b[1;32m     42\u001b[0m current_time \u001b[38;5;241m+\u001b[39m\u001b[38;5;241m=\u001b[39m \u001b[38;5;241m600\u001b[39m\n",
      "\u001b[0;31mKeyboardInterrupt\u001b[0m: "
     ]
    }
   ],
   "source": [
    "# スナップショットを取得する関数\n",
    "def save_screenshot(title):\n",
    "    # 現在の時刻を取得する\n",
    "    timestamp = time.strftime(\"%Y%m%d_%H%M%S\")\n",
    "    # スクリーンショットを撮影する\n",
    "    filename = \"./screenshot_{}.png\".format(title)\n",
    "    browser.save_screenshot(filename)\n",
    "    print(\"Screenshot saved as {}\".format(filename))\n",
    "# ブラウザを起動する\n",
    "url = \"https://www.youtube.com/watch?v=St7aTfoIdYQ\"\n",
    "\n",
    "# ブラウザを起動する\n",
    "browser = webdriver.Chrome()\n",
    "\n",
    "# 動画ページを開く\n",
    "browser.get(url)\n",
    "action = webdriver.ActionChains(browser)\n",
    "\n",
    "time.sleep(45)\n",
    "initial_time = time.strptime(\"2023/05/25 18:12\", \"%Y/%m/%d %H:%M\")\n",
    "current_time = time.mktime(initial_time)\n",
    "# 10秒ごとにスナップショットを取得するループ\n",
    "while True:\n",
    "    save_screenshot(time.strftime(\"%Y-%m-%d-%H-%M\", time.localtime(current_time)))\n",
    "    # 動画プレイヤーを10秒進める\n",
    "    progress_bar = browser.find_element(By.CLASS_NAME, \"ytp-progress-bar-padding\")\n",
    "    for num in range(10):   \n",
    "        action.send_keys(Keys.RIGHT).perform()\n",
    "        action.send_keys(Keys.RIGHT).perform()\n",
    "        action.send_keys(Keys.RIGHT).perform()\n",
    "        action.send_keys(Keys.RIGHT).perform()\n",
    "        action.send_keys(Keys.RIGHT).perform()\n",
    "        action.send_keys(Keys.RIGHT).perform()\n",
    "        action.send_keys(Keys.RIGHT).perform()\n",
    "        action.send_keys(Keys.RIGHT).perform()\n",
    "        action.send_keys(Keys.RIGHT).perform()\n",
    "        action.send_keys(Keys.RIGHT).perform()\n",
    "        action.send_keys(Keys.RIGHT).perform()\n",
    "        action.send_keys(Keys.RIGHT).perform()\n",
    "        time.sleep(2)\n",
    "        \n",
    "    current_time += 600"
   ]
  },
  {
   "cell_type": "code",
   "execution_count": null,
   "metadata": {},
   "outputs": [],
   "source": []
  }
 ],
 "metadata": {
  "kernelspec": {
   "display_name": "Python 3 (ipykernel)",
   "language": "python",
   "name": "python3"
  },
  "language_info": {
   "codemirror_mode": {
    "name": "ipython",
    "version": 3
   },
   "file_extension": ".py",
   "mimetype": "text/x-python",
   "name": "python",
   "nbconvert_exporter": "python",
   "pygments_lexer": "ipython3",
   "version": "3.10.9"
  },
  "vscode": {
   "interpreter": {
    "hash": "25a19fbe0a9132dfb9279d48d161753c6352f8f9478c2e74383d340069b907c3"
   }
  }
 },
 "nbformat": 4,
 "nbformat_minor": 4
}
